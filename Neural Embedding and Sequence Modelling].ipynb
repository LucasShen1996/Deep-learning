{
 "cells": [
  {
   "cell_type": "code",
   "execution_count": 1,
   "id": "47bc6374",
   "metadata": {},
   "outputs": [],
   "source": [
    "import numpy as np\n",
    "import tensorflow as tf\n",
    "\n",
    "tf.random.set_seed(6789)\n",
    "np.random.seed(6789)"
   ]
  },
  {
   "cell_type": "code",
   "execution_count": 2,
   "id": "5795dbc1",
   "metadata": {},
   "outputs": [],
   "source": [
    "import os\n",
    "import zipfile\n",
    "import collections\n",
    "from six.moves import range\n",
    "from six.moves.urllib.request import urlretrieve\n",
    "from sklearn import preprocessing\n",
    "from sklearn.model_selection import train_test_split\n",
    "import matplotlib.pyplot as plt\n",
    "plt.style.use('ggplot')\n",
    "\n",
    "class DataManager:\n",
    "    def __init__(self, verbose=True, maxlen= 50, random_state=6789):\n",
    "        self.verbose = verbose\n",
    "        self.max_sentence_len = 0\n",
    "        self.str_questions = list()\n",
    "        self.str_labels = list()\n",
    "        self.numeral_labels = list()\n",
    "        self.maxlen = maxlen\n",
    "        self.numeral_data = list()\n",
    "        self.random_state = random_state\n",
    "        self.random = np.random.RandomState(random_state)\n",
    "        \n",
    "    @staticmethod\n",
    "    def maybe_download(dir_name, file_name, url, verbose= True):\n",
    "        if not os.path.exists(dir_name):\n",
    "            os.mkdir(dir_name)\n",
    "        if not os.path.exists(os.path.join(dir_name, file_name)):\n",
    "            urlretrieve(url + file_name, os.path.join(dir_name, file_name))\n",
    "        if verbose:\n",
    "            print(\"Downloaded successfully {}\".format(file_name))\n",
    "    \n",
    "    def read_data(self, dir_name, file_names):\n",
    "        for file_name in file_names:\n",
    "            file_path= os.path.join(dir_name, file_name)\n",
    "            self.str_questions= list(); self.str_labels= list()\n",
    "            with open(file_path, \"r\", encoding=\"latin-1\") as f:\n",
    "                for row in f:\n",
    "                    row_str= row.split(\":\")\n",
    "                    label, question= row_str[0], row_str[1]\n",
    "                    question= question.lower()\n",
    "                    self.str_labels.append(label)\n",
    "                    self.str_questions.append(question[0:-1])\n",
    "                    if self.max_sentence_len < len(self.str_questions[-1]):\n",
    "                        self.max_sentence_len= len(self.str_questions[-1])\n",
    "         \n",
    "        # turns labels into numbers\n",
    "        le= preprocessing.LabelEncoder()\n",
    "        le.fit(self.str_labels)\n",
    "        self.numeral_labels = np.array(le.transform(self.str_labels))\n",
    "        self.str_classes= le.classes_\n",
    "        self.num_classes= len(self.str_classes)\n",
    "        if self.verbose:\n",
    "            print(\"\\nSample questions... \\n\")\n",
    "            print(self.str_questions[0:5])\n",
    "            print(\"Labels {}\\n\\n\".format(self.str_classes))\n",
    "    \n",
    "    def manipulate_data(self):\n",
    "        tokenizer = tf.keras.preprocessing.text.Tokenizer()\n",
    "        tokenizer.fit_on_texts(self.str_questions)\n",
    "        self.numeral_data = tokenizer.texts_to_sequences(self.str_questions)\n",
    "        self.numeral_data = tf.keras.preprocessing.sequence.pad_sequences(self.numeral_data, padding='post', truncating= 'post', maxlen= self.maxlen)\n",
    "        self.word2idx = tokenizer.word_index\n",
    "        self.word2idx = {k:v for k,v in self.word2idx.items()}\n",
    "        self.idx2word = {v:k for k,v in self.word2idx.items()}\n",
    "        self.vocab_size = len(self.word2idx)\n",
    "    \n",
    "    def train_valid_split(self, train_ratio=0.9):\n",
    "        idxs = np.random.permutation(np.arange(len(self.str_questions)))\n",
    "        train_size = int(train_ratio*len(idxs)) +1\n",
    "        self.train_str_questions, self.valid_str_questions = self.str_questions[0:train_size], self.str_questions[train_size:]\n",
    "        self.train_numeral_data, self.valid_numeral_data = self.numeral_data[0:train_size], self.numeral_data[train_size:]\n",
    "        self.train_numeral_labels, self.valid_numeral_labels = self.numeral_labels[0:train_size], self.numeral_labels[train_size:]\n",
    "        self.tf_train_set = tf.data.Dataset.from_tensor_slices((self.train_numeral_data, self.train_numeral_labels))\n",
    "        self.tf_valid_set = tf.data.Dataset.from_tensor_slices((self.valid_numeral_data, self.valid_numeral_labels))"
   ]
  },
  {
   "cell_type": "code",
   "execution_count": 3,
   "id": "f1ff1fd5",
   "metadata": {},
   "outputs": [
    {
     "name": "stdout",
     "output_type": "stream",
     "text": [
      "Loading data...\n",
      "Downloaded successfully train_1000.label\n",
      "Downloaded successfully TREC_10.label\n",
      "\n",
      "Sample questions... \n",
      "\n",
      "['dist how far is it from denver to aspen ?', 'city what county is modesto , california in ?', 'desc who was galileo ?', 'def what is an atom ?', 'date when did hawaii become a state ?']\n",
      "Labels ['ABBR' 'DESC' 'ENTY' 'HUM' 'LOC' 'NUM']\n",
      "\n",
      "\n"
     ]
    }
   ],
   "source": [
    "print('Loading data...')\n",
    "DataManager.maybe_download(\"Data\", \"train_1000.label\", \"http://cogcomp.org/Data/QA/QC/\")\n",
    "DataManager.maybe_download(\"Data\", \"TREC_10.label\", \"http://cogcomp.org/Data/QA/QC/\")\n",
    "\n",
    "dm = DataManager(maxlen=100)\n",
    "dm.read_data(\"Data/\", [\"train_1000.label\", \"TREC_10.label\"])   # read data"
   ]
  },
  {
   "cell_type": "code",
   "execution_count": 4,
   "id": "87fe9470",
   "metadata": {},
   "outputs": [],
   "source": [
    "dm.manipulate_data()\n",
    "dm.train_valid_split(train_ratio=0.8)"
   ]
  },
  {
   "cell_type": "markdown",
   "id": "4c346db1",
   "metadata": {},
   "source": [
    "## <span style=\"color:#0b486b\">Part 2: Using Word2Vect to transform texts to vectors </span>"
   ]
  },
  {
   "cell_type": "code",
   "execution_count": 5,
   "id": "3d61c7db",
   "metadata": {},
   "outputs": [],
   "source": [
    "import gensim.downloader as api\n",
    "from gensim.models import Word2Vec\n",
    "from sklearn.svm import SVC\n",
    "from sklearn.preprocessing import MinMaxScaler\n",
    "from sklearn.metrics import accuracy_score"
   ]
  },
  {
   "cell_type": "code",
   "execution_count": 6,
   "id": "ed90ee76",
   "metadata": {},
   "outputs": [],
   "source": [
    "word2vect = api.load(\"glove-wiki-gigaword-100\")"
   ]
  },
  {
   "cell_type": "code",
   "execution_count": 7,
   "id": "09e066b0",
   "metadata": {},
   "outputs": [],
   "source": [
    "def get_word_vector(word, model):\n",
    "    try:\n",
    "        vector = model.get_vector(word)#Insert your code here\n",
    "    except: #word not in the vocabulary\n",
    "        vector = np.zeros([100])#Insert your code here\n",
    "    return vector"
   ]
  },
  {
   "cell_type": "code",
   "execution_count": 8,
   "id": "9c53ee74",
   "metadata": {},
   "outputs": [],
   "source": [
    "def get_sentence_vector(sentence, important_score=None, model= None):\n",
    "    #Insert your code here\n",
    "    final_vector=np.zeros(100)\n",
    "    tokens = sentence.split()\n",
    "    vectors = [get_word_vector(word, model) for word in tokens if word in model]\n",
    "    if important_score.all==None:\n",
    "        final_vector = np.asarray(vectors).sum(axis = 0)/len(vecs)\n",
    "    else:\n",
    "        important_weight = np.exp(important_score)/np.sum(np.exp(important_score))\n",
    "        for i in range(len(vectors)):\n",
    "            final_vector = important_weight[i]*vectors[i]\n",
    "    \n",
    "    return final_vector"
   ]
  },
  {
   "cell_type": "code",
   "execution_count": 9,
   "id": "fbff9339",
   "metadata": {},
   "outputs": [
    {
     "name": "stdout",
     "output_type": "stream",
     "text": [
      "Transform training set to feature vectors...\n"
     ]
    }
   ],
   "source": [
    "print(\"Transform training set to feature vectors...\")\n",
    "X_train= np.zeros([len(dm.train_str_questions),100])#Insert your code here\n",
    "y_train= np.zeros(len(dm.train_numeral_labels))#Insert your code here\n",
    "important_score=np.zeros(len(dm.train_str_questions))\n",
    "important_score[0]=1\n",
    "index = 0\n",
    "# set important score\n",
    "for i in range(len(dm.train_str_questions)-1):\n",
    "    important_score[i+1]=important_score[i]*(1-0.9)\n",
    "\n",
    "# transform the string sentence form training data set\n",
    "for sentence in dm.train_str_questions:\n",
    "    vector = get_sentence_vector(sentence, important_score=important_score, model= word2vect)\n",
    "    if len(vector)>0:\n",
    "        X_train[index] = vector\n",
    "        index = index + 1 \n",
    "# transform the numerical label form training data set\n",
    "index = 0    \n",
    "for label in dm.train_numeral_labels:\n",
    "    y_train[index]=label\n",
    "    index = index + 1 "
   ]
  },
  {
   "cell_type": "code",
   "execution_count": 10,
   "id": "cb3fe176",
   "metadata": {},
   "outputs": [
    {
     "name": "stdout",
     "output_type": "stream",
     "text": [
      "Transform valid set to feature vectors...\n"
     ]
    }
   ],
   "source": [
    "print(\"Transform valid set to feature vectors...\")\n",
    "X_valid = np.zeros([len(dm.valid_str_questions),100])#Insert your code here\n",
    "y_valid = np.zeros(len(dm.valid_numeral_labels))#Insert your code here\n",
    "\n",
    "# transform the string sentence form validation data set\n",
    "index = 0\n",
    "for line in dm.valid_str_questions:\n",
    "    vector = get_sentence_vector(line, important_score=important_score, model= word2vect)\n",
    "    if len(vector)>0:\n",
    "        X_valid[index]=vector\n",
    "        index = index + 1 \n",
    "\n",
    "# transform the numerical label form validation data set\n",
    "index = 0\n",
    "for label in dm.valid_numeral_labels:\n",
    "    y_valid[index]=label\n",
    "    index = index + 1 "
   ]
  },
  {
   "cell_type": "code",
   "execution_count": 11,
   "id": "b076f80a",
   "metadata": {},
   "outputs": [],
   "source": [
    "scaler = MinMaxScaler(feature_range=(-1,1))\n",
    "scaler.fit(X_train)\n",
    "X_train = scaler.transform(X_train)#Insert your code here\n",
    "scaler.fit(X_valid)\n",
    "X_valid = scaler.transform(X_valid)#Insert your code here"
   ]
  },
  {
   "cell_type": "code",
   "execution_count": 12,
   "id": "9de51cbe",
   "metadata": {},
   "outputs": [
    {
     "data": {
      "text/plain": [
       "SVC(gamma=0.125)"
      ]
     },
     "execution_count": 12,
     "metadata": {},
     "output_type": "execute_result"
    }
   ],
   "source": [
    "svm = SVC(C=1.0, kernel='rbf',gamma=pow(2,-3)) #Insert your code here\n",
    "#Insert your code for fitting svm on X_train\n",
    "svm.fit(X_train,y_train)"
   ]
  },
  {
   "cell_type": "code",
   "execution_count": 13,
   "id": "55178882",
   "metadata": {},
   "outputs": [
    {
     "name": "stdout",
     "output_type": "stream",
     "text": [
      "0.29292929292929293\n"
     ]
    }
   ],
   "source": [
    "y_valid_pred= svm.predict(X_valid)#Insert your code\n",
    "accuracy = accuracy_score(y_valid,y_valid_pred)#Insert your code\n",
    "print(accuracy)"
   ]
  },
  {
   "cell_type": "markdown",
   "id": "5167dddd",
   "metadata": {},
   "source": [
    "## <span style=\"color:#0b486b\">Part 3: Text CNN for sequence modeling and neural embedding </span>\n"
   ]
  },
  {
   "cell_type": "code",
   "execution_count": 14,
   "id": "aee55dd4",
   "metadata": {},
   "outputs": [],
   "source": [
    "class TextCNN:\n",
    "    def __init__(self, embed_size= 128, state_size=16, data_manager=None):\n",
    "        self.data_manager = data_manager\n",
    "        self.embed_size = embed_size\n",
    "        self.state_size = state_size\n",
    "    \n",
    "    def build(self):\n",
    "        x = tf.keras.layers.Input(shape=[None])\n",
    "        h = tf.keras.layers.Embedding(self.data_manager.vocab_size +1, self.embed_size)(x)\n",
    "        h1 = tf.keras.layers.Conv1D(filters=self.state_size, padding='same', activation='relu', kernel_size=3)(h)#Insert your code here\n",
    "        h2 = tf.keras.layers.Conv1D(filters=self.state_size, padding='same', activation='relu', kernel_size=5)(h)#Insert your code here\n",
    "        h3 = tf.keras.layers.Conv1D(filters=self.state_size, padding='same', activation='relu', kernel_size=7)(h)#Insert your code here\n",
    "        h1 = tf.keras.layers.GlobalMaxPool1D(data_format='channels_last')(h1)#Insert your code here\n",
    "        h2 = tf.keras.layers.GlobalMaxPool1D(data_format='channels_last')(h2)#Insert your code here\n",
    "        h3 = tf.keras.layers.GlobalMaxPool1D(data_format='channels_last')(h3)#Insert your code here\n",
    "        h =  tf.keras.layers.Concatenate(axis=1)([h1, h2, h3])#Insert your code here\n",
    "        h = tf.keras.layers.Dense(self.data_manager.num_classes, activation='softmax')(h)\n",
    "        self.model = tf.keras.Model(inputs=x, outputs=h) \n",
    "    \n",
    "    def compile_model(self, *args, **kwargs):\n",
    "        self.model.compile(*args, **kwargs)\n",
    "    \n",
    "    def fit(self, *args, **kwargs):\n",
    "        return self.model.fit(*args, **kwargs)\n",
    "    \n",
    "    def evaluate(self, *args, **kwargs):\n",
    "        self.model.evaluate(*args, **kwargs)\n"
   ]
  },
  {
   "cell_type": "code",
   "execution_count": 15,
   "id": "f90545e4",
   "metadata": {},
   "outputs": [
    {
     "name": "stdout",
     "output_type": "stream",
     "text": [
      "Epoch 1/20\n",
      "7/7 [==============================] - 6s 109ms/step - loss: 1.7450 - accuracy: 0.3965 - val_loss: 1.7266 - val_accuracy: 0.4242\n",
      "Epoch 2/20\n",
      "7/7 [==============================] - 0s 12ms/step - loss: 1.6031 - accuracy: 0.5810 - val_loss: 1.6472 - val_accuracy: 0.3939\n",
      "Epoch 3/20\n",
      "7/7 [==============================] - 0s 12ms/step - loss: 1.4762 - accuracy: 0.5411 - val_loss: 1.5596 - val_accuracy: 0.3939\n",
      "Epoch 4/20\n",
      "7/7 [==============================] - 0s 12ms/step - loss: 1.3451 - accuracy: 0.5711 - val_loss: 1.4568 - val_accuracy: 0.4040\n",
      "Epoch 5/20\n",
      "7/7 [==============================] - 0s 11ms/step - loss: 1.2052 - accuracy: 0.6534 - val_loss: 1.3325 - val_accuracy: 0.4747\n",
      "Epoch 6/20\n",
      "7/7 [==============================] - ETA: 0s - loss: 1.0545 - accuracy: 0.70 - 0s 11ms/step - loss: 1.0545 - accuracy: 0.7082 - val_loss: 1.1905 - val_accuracy: 0.5455\n",
      "Epoch 7/20\n",
      "7/7 [==============================] - 0s 12ms/step - loss: 0.8995 - accuracy: 0.8105 - val_loss: 1.0475 - val_accuracy: 0.5960\n",
      "Epoch 8/20\n",
      "7/7 [==============================] - 0s 11ms/step - loss: 0.7517 - accuracy: 0.9252 - val_loss: 0.9181 - val_accuracy: 0.7374\n",
      "Epoch 9/20\n",
      "7/7 [==============================] - 0s 9ms/step - loss: 0.6187 - accuracy: 0.9551 - val_loss: 0.8103 - val_accuracy: 0.7879\n",
      "Epoch 10/20\n",
      "7/7 [==============================] - 0s 10ms/step - loss: 0.5032 - accuracy: 0.9726 - val_loss: 0.7208 - val_accuracy: 0.8081\n",
      "Epoch 11/20\n",
      "7/7 [==============================] - 0s 10ms/step - loss: 0.4054 - accuracy: 0.9751 - val_loss: 0.6436 - val_accuracy: 0.8182\n",
      "Epoch 12/20\n",
      "7/7 [==============================] - 0s 12ms/step - loss: 0.3243 - accuracy: 0.9800 - val_loss: 0.5762 - val_accuracy: 0.8283\n",
      "Epoch 13/20\n",
      "7/7 [==============================] - 0s 11ms/step - loss: 0.2583 - accuracy: 0.9825 - val_loss: 0.5170 - val_accuracy: 0.8687\n",
      "Epoch 14/20\n",
      "7/7 [==============================] - 0s 11ms/step - loss: 0.2055 - accuracy: 0.9850 - val_loss: 0.4653 - val_accuracy: 0.8889\n",
      "Epoch 15/20\n",
      "7/7 [==============================] - 0s 13ms/step - loss: 0.1638 - accuracy: 0.9850 - val_loss: 0.4212 - val_accuracy: 0.9091\n",
      "Epoch 16/20\n",
      "7/7 [==============================] - 0s 11ms/step - loss: 0.1314 - accuracy: 0.9850 - val_loss: 0.3829 - val_accuracy: 0.9293\n",
      "Epoch 17/20\n",
      "7/7 [==============================] - 0s 10ms/step - loss: 0.1062 - accuracy: 0.9850 - val_loss: 0.3505 - val_accuracy: 0.9293\n",
      "Epoch 18/20\n",
      "7/7 [==============================] - 0s 10ms/step - loss: 0.0867 - accuracy: 0.9900 - val_loss: 0.3233 - val_accuracy: 0.9293\n",
      "Epoch 19/20\n",
      "7/7 [==============================] - 0s 14ms/step - loss: 0.0716 - accuracy: 0.9950 - val_loss: 0.3006 - val_accuracy: 0.9394\n",
      "Epoch 20/20\n",
      "7/7 [==============================] - 0s 11ms/step - loss: 0.0597 - accuracy: 0.9950 - val_loss: 0.2813 - val_accuracy: 0.9394\n"
     ]
    },
    {
     "data": {
      "text/plain": [
       "<tensorflow.python.keras.callbacks.History at 0x2975a4adeb0>"
      ]
     },
     "execution_count": 15,
     "metadata": {},
     "output_type": "execute_result"
    }
   ],
   "source": [
    "text_cnn = TextCNN(data_manager=dm)\n",
    "text_cnn.build()\n",
    "#Insert code here to compile the model\n",
    "text_cnn.compile_model(optimizer=\"adam\",loss='sparse_categorical_crossentropy',metrics=[\"accuracy\"])\n",
    "#Insert code here to train the model on 20 epochs\n",
    "text_cnn.model.fit(dm.tf_train_set.batch(64), epochs=20, validation_data = dm.tf_valid_set.batch(64))"
   ]
  },
  {
   "cell_type": "markdown",
   "id": "eb95e9b2",
   "metadata": {},
   "source": [
    "## <span style=\"color:#0b486b\">Part 4: RNNs for sequence modeling and neural embedding </span>"
   ]
  },
  {
   "cell_type": "code",
   "execution_count": 16,
   "id": "1d8502ca",
   "metadata": {},
   "outputs": [],
   "source": [
    "class UniRNN:\n",
    "    def __init__(self, cell_type= 'gru', embed_size= 128, state_sizes= [128, 64], data_manager= None):\n",
    "        self.cell_type = cell_type\n",
    "        self.state_sizes = state_sizes\n",
    "        self.embed_size = embed_size\n",
    "        self.data_manager = data_manager\n",
    "        self.vocab_size = self.data_manager.vocab_size +1 \n",
    "        \n",
    "    #return the correspoding memory cell\n",
    "    @staticmethod\n",
    "    def get_layer(cell_type= 'gru', state_size= 128, return_sequences= False, activation = 'tanh'):\n",
    "        if cell_type=='gru':\n",
    "            return tf.keras.layers.GRU(state_size,return_sequences= return_sequences, activation = activation) #Insert your code here\n",
    "        elif cell_type== 'lstm':\n",
    "            return tf.keras.layers.LSTM(state_size,return_sequences= return_sequences, activation = activation) #Insert your code here\n",
    "        else:\n",
    "            return tf.keras.layers.RNN(state_size,return_sequences= return_sequences, activation = activation) #Insert your code here\n",
    "    \n",
    "    def build(self):\n",
    "        x = tf.keras.layers.Input(shape=[None])\n",
    "        h = tf.keras.layers.Embedding(self.vocab_size, self.embed_size,mask_zero=True)(x)#Insert your code here\n",
    "        #Insert your code here\n",
    "        num_layers = len(self.state_sizes)\n",
    "        for i in range(num_layers):\n",
    "            #Insert your code here, you can insert more lines if necessary\n",
    "            if i != num_layers - 1:\n",
    "                layer = self.get_layer(state_size=self.state_sizes[i],return_sequences= True)\n",
    "                h=layer(h)\n",
    "            else:\n",
    "                layer = self.get_layer(state_size=self.state_sizes[i])\n",
    "                h=layer(h)\n",
    "        h = tf.keras.layers.Dense(dm.num_classes, activation='softmax')(h)\n",
    "        self.model = tf.keras.Model(inputs=x, outputs=h)\n",
    "   \n",
    "    def compile_model(self, *args, **kwargs):\n",
    "        self.model.compile(*args, **kwargs)\n",
    "    \n",
    "    def fit(self, *args, **kwargs):\n",
    "        return self.model.fit(*args, **kwargs)\n",
    "    \n",
    "    def evaluate(self, *args, **kwargs):\n",
    "        self.model.evaluate(*args, **kwargs)       \n"
   ]
  },
  {
   "cell_type": "code",
   "execution_count": 17,
   "id": "1f85aa05",
   "metadata": {},
   "outputs": [
    {
     "name": "stdout",
     "output_type": "stream",
     "text": [
      "Epoch 1/20\n",
      "7/7 [==============================] - 9s 328ms/step - loss: 1.6862 - accuracy: 0.3466 - val_loss: 1.5706 - val_accuracy: 0.3131\n",
      "Epoch 2/20\n",
      "7/7 [==============================] - 0s 22ms/step - loss: 1.2025 - accuracy: 0.5337 - val_loss: 1.2092 - val_accuracy: 0.4949\n",
      "Epoch 3/20\n",
      "7/7 [==============================] - 0s 18ms/step - loss: 0.8385 - accuracy: 0.6459 - val_loss: 1.0263 - val_accuracy: 0.4949\n",
      "Epoch 4/20\n",
      "7/7 [==============================] - 0s 18ms/step - loss: 0.6232 - accuracy: 0.7257 - val_loss: 0.8321 - val_accuracy: 0.6061\n",
      "Epoch 5/20\n",
      "7/7 [==============================] - 0s 19ms/step - loss: 0.4715 - accuracy: 0.8429 - val_loss: 0.7663 - val_accuracy: 0.6263\n",
      "Epoch 6/20\n",
      "7/7 [==============================] - 0s 18ms/step - loss: 0.3469 - accuracy: 0.9352 - val_loss: 0.7529 - val_accuracy: 0.6970\n",
      "Epoch 7/20\n",
      "7/7 [==============================] - 0s 17ms/step - loss: 0.3100 - accuracy: 0.9002 - val_loss: 0.5660 - val_accuracy: 0.7677\n",
      "Epoch 8/20\n",
      "7/7 [==============================] - 0s 17ms/step - loss: 0.1959 - accuracy: 0.9776 - val_loss: 0.5880 - val_accuracy: 0.7475\n",
      "Epoch 9/20\n",
      "7/7 [==============================] - 0s 17ms/step - loss: 0.1252 - accuracy: 0.9825 - val_loss: 0.4213 - val_accuracy: 0.8182\n",
      "Epoch 10/20\n",
      "7/7 [==============================] - 0s 19ms/step - loss: 0.0671 - accuracy: 0.9950 - val_loss: 0.5000 - val_accuracy: 0.7778\n",
      "Epoch 11/20\n",
      "7/7 [==============================] - 0s 18ms/step - loss: 0.0753 - accuracy: 0.9800 - val_loss: 0.2981 - val_accuracy: 0.8788\n",
      "Epoch 12/20\n",
      "7/7 [==============================] - 0s 19ms/step - loss: 0.0283 - accuracy: 1.0000 - val_loss: 0.3036 - val_accuracy: 0.8687\n",
      "Epoch 13/20\n",
      "7/7 [==============================] - 0s 20ms/step - loss: 0.0175 - accuracy: 1.0000 - val_loss: 0.3180 - val_accuracy: 0.8788\n",
      "Epoch 14/20\n",
      "7/7 [==============================] - 0s 18ms/step - loss: 0.0114 - accuracy: 1.0000 - val_loss: 0.3094 - val_accuracy: 0.8889\n",
      "Epoch 15/20\n",
      "7/7 [==============================] - 0s 19ms/step - loss: 0.0073 - accuracy: 1.0000 - val_loss: 0.3013 - val_accuracy: 0.8889\n",
      "Epoch 16/20\n",
      "7/7 [==============================] - 0s 21ms/step - loss: 0.0046 - accuracy: 1.0000 - val_loss: 0.2854 - val_accuracy: 0.8990\n",
      "Epoch 17/20\n",
      "7/7 [==============================] - 0s 21ms/step - loss: 0.0029 - accuracy: 1.0000 - val_loss: 0.2828 - val_accuracy: 0.9091\n",
      "Epoch 18/20\n",
      "7/7 [==============================] - 0s 18ms/step - loss: 0.0019 - accuracy: 1.0000 - val_loss: 0.2908 - val_accuracy: 0.9091\n",
      "Epoch 19/20\n",
      "7/7 [==============================] - 0s 18ms/step - loss: 0.0012 - accuracy: 1.0000 - val_loss: 0.3037 - val_accuracy: 0.9091\n",
      "Epoch 20/20\n",
      "7/7 [==============================] - 0s 17ms/step - loss: 8.3695e-04 - accuracy: 1.0000 - val_loss: 0.3192 - val_accuracy: 0.9091\n"
     ]
    },
    {
     "data": {
      "text/plain": [
       "<tensorflow.python.keras.callbacks.History at 0x297f7aeda30>"
      ]
     },
     "execution_count": 17,
     "metadata": {},
     "output_type": "execute_result"
    }
   ],
   "source": [
    "uni_rnn = UniRNN(cell_type= 'basic_rnn', embed_size= 128, state_sizes= [64, 128],data_manager=dm)#Insert your code here\n",
    "uni_rnn.build()\n",
    "opt = tf.keras.optimizers.RMSprop(learning_rate=0.001)\n",
    "uni_rnn.compile_model(optimizer=opt, loss='sparse_categorical_crossentropy', metrics=['accuracy'])\n",
    "uni_rnn.fit(dm.tf_train_set.batch(64), epochs=20, validation_data = dm.tf_valid_set.batch(64))"
   ]
  },
  {
   "cell_type": "markdown",
   "id": "b1a54189",
   "metadata": {},
   "source": [
    "### GRU"
   ]
  },
  {
   "cell_type": "code",
   "execution_count": 18,
   "id": "1754d301",
   "metadata": {},
   "outputs": [
    {
     "name": "stdout",
     "output_type": "stream",
     "text": [
      "Epoch 1/20\n",
      "7/7 [==============================] - 8s 337ms/step - loss: 1.7003 - accuracy: 0.3591 - val_loss: 1.5622 - val_accuracy: 0.3232\n",
      "Epoch 2/20\n",
      "7/7 [==============================] - 0s 17ms/step - loss: 1.2742 - accuracy: 0.4788 - val_loss: 1.2606 - val_accuracy: 0.4040\n",
      "Epoch 3/20\n",
      "7/7 [==============================] - 0s 17ms/step - loss: 0.9173 - accuracy: 0.6135 - val_loss: 1.0830 - val_accuracy: 0.4949\n",
      "Epoch 4/20\n",
      "7/7 [==============================] - 0s 18ms/step - loss: 0.6390 - accuracy: 0.7232 - val_loss: 0.8071 - val_accuracy: 0.6465\n",
      "Epoch 5/20\n",
      "7/7 [==============================] - 0s 17ms/step - loss: 0.3895 - accuracy: 0.9002 - val_loss: 0.7459 - val_accuracy: 0.7273\n",
      "Epoch 6/20\n",
      "7/7 [==============================] - 0s 17ms/step - loss: 0.2422 - accuracy: 0.9401 - val_loss: 0.7636 - val_accuracy: 0.6667\n",
      "Epoch 7/20\n",
      "7/7 [==============================] - 0s 18ms/step - loss: 0.1505 - accuracy: 0.9651 - val_loss: 0.5945 - val_accuracy: 0.7879\n",
      "Epoch 8/20\n",
      "7/7 [==============================] - 0s 17ms/step - loss: 0.0856 - accuracy: 0.9850 - val_loss: 0.5226 - val_accuracy: 0.8182\n",
      "Epoch 9/20\n",
      "7/7 [==============================] - 0s 17ms/step - loss: 0.0519 - accuracy: 0.9900 - val_loss: 0.5345 - val_accuracy: 0.8384\n",
      "Epoch 10/20\n",
      "7/7 [==============================] - 0s 17ms/step - loss: 0.0389 - accuracy: 0.9925 - val_loss: 0.5487 - val_accuracy: 0.8384\n",
      "Epoch 11/20\n",
      "7/7 [==============================] - 0s 17ms/step - loss: 0.0281 - accuracy: 0.9925 - val_loss: 0.9810 - val_accuracy: 0.7374\n",
      "Epoch 12/20\n",
      "7/7 [==============================] - 0s 17ms/step - loss: 0.0241 - accuracy: 0.9950 - val_loss: 0.4574 - val_accuracy: 0.8586\n",
      "Epoch 13/20\n",
      "7/7 [==============================] - 0s 18ms/step - loss: 0.0128 - accuracy: 0.9975 - val_loss: 0.5580 - val_accuracy: 0.8687\n",
      "Epoch 14/20\n",
      "7/7 [==============================] - 0s 18ms/step - loss: 0.0118 - accuracy: 0.9975 - val_loss: 0.7364 - val_accuracy: 0.8283\n",
      "Epoch 15/20\n",
      "7/7 [==============================] - 0s 19ms/step - loss: 0.0085 - accuracy: 0.9975 - val_loss: 0.8087 - val_accuracy: 0.7879\n",
      "Epoch 16/20\n",
      "7/7 [==============================] - 0s 19ms/step - loss: 0.0216 - accuracy: 0.9925 - val_loss: 0.3214 - val_accuracy: 0.9293\n",
      "Epoch 17/20\n",
      "7/7 [==============================] - 0s 18ms/step - loss: 0.0038 - accuracy: 1.0000 - val_loss: 0.3384 - val_accuracy: 0.9192\n",
      "Epoch 18/20\n",
      "7/7 [==============================] - 0s 18ms/step - loss: 0.0026 - accuracy: 1.0000 - val_loss: 0.3457 - val_accuracy: 0.9192\n",
      "Epoch 19/20\n",
      "7/7 [==============================] - 0s 18ms/step - loss: 0.0021 - accuracy: 1.0000 - val_loss: 0.3533 - val_accuracy: 0.9192\n",
      "Epoch 20/20\n",
      "7/7 [==============================] - 0s 18ms/step - loss: 0.0016 - accuracy: 1.0000 - val_loss: 0.3612 - val_accuracy: 0.9192\n"
     ]
    },
    {
     "data": {
      "text/plain": [
       "<tensorflow.python.keras.callbacks.History at 0x298583be0d0>"
      ]
     },
     "execution_count": 18,
     "metadata": {},
     "output_type": "execute_result"
    }
   ],
   "source": [
    "uni_rnn =  UniRNN(cell_type= 'gru', embed_size= 128, state_sizes= [64, 128],data_manager=dm)#Insert your code here\n",
    "uni_rnn.build()\n",
    "opt = tf.keras.optimizers.RMSprop(learning_rate=0.001)\n",
    "uni_rnn.compile_model(optimizer=opt, loss='sparse_categorical_crossentropy', metrics=['accuracy'])\n",
    "uni_rnn.fit(dm.tf_train_set.batch(64), epochs=20, validation_data = dm.tf_valid_set.batch(64))"
   ]
  },
  {
   "cell_type": "markdown",
   "id": "41e33eb1",
   "metadata": {},
   "source": [
    "### lstm"
   ]
  },
  {
   "cell_type": "code",
   "execution_count": 19,
   "id": "39f6235d",
   "metadata": {},
   "outputs": [
    {
     "name": "stdout",
     "output_type": "stream",
     "text": [
      "Epoch 1/20\n",
      "7/7 [==============================] - 8s 329ms/step - loss: 1.6926 - accuracy: 0.3990 - val_loss: 1.5083 - val_accuracy: 0.3434\n",
      "Epoch 2/20\n",
      "7/7 [==============================] - 0s 18ms/step - loss: 1.2119 - accuracy: 0.5312 - val_loss: 1.2204 - val_accuracy: 0.4545\n",
      "Epoch 3/20\n",
      "7/7 [==============================] - 0s 19ms/step - loss: 0.8712 - accuracy: 0.6484 - val_loss: 1.0609 - val_accuracy: 0.4848\n",
      "Epoch 4/20\n",
      "7/7 [==============================] - 0s 18ms/step - loss: 0.6272 - accuracy: 0.7307 - val_loss: 0.8558 - val_accuracy: 0.5859\n",
      "Epoch 5/20\n",
      "7/7 [==============================] - 0s 17ms/step - loss: 0.4635 - accuracy: 0.8130 - val_loss: 1.0015 - val_accuracy: 0.6061\n",
      "Epoch 6/20\n",
      "7/7 [==============================] - 0s 19ms/step - loss: 0.2798 - accuracy: 0.9426 - val_loss: 0.5496 - val_accuracy: 0.7778\n",
      "Epoch 7/20\n",
      "7/7 [==============================] - 0s 18ms/step - loss: 0.1694 - accuracy: 0.9751 - val_loss: 0.5451 - val_accuracy: 0.7879\n",
      "Epoch 8/20\n",
      "7/7 [==============================] - 0s 17ms/step - loss: 0.0976 - accuracy: 0.9875 - val_loss: 0.5006 - val_accuracy: 0.8283\n",
      "Epoch 9/20\n",
      "7/7 [==============================] - 0s 18ms/step - loss: 0.0609 - accuracy: 0.9950 - val_loss: 0.4902 - val_accuracy: 0.8384\n",
      "Epoch 10/20\n",
      "7/7 [==============================] - 0s 18ms/step - loss: 0.0379 - accuracy: 0.9950 - val_loss: 0.4711 - val_accuracy: 0.8687\n",
      "Epoch 11/20\n",
      "7/7 [==============================] - 0s 18ms/step - loss: 0.0341 - accuracy: 0.9975 - val_loss: 0.4868 - val_accuracy: 0.8485\n",
      "Epoch 12/20\n",
      "7/7 [==============================] - 0s 18ms/step - loss: 0.0204 - accuracy: 0.9975 - val_loss: 0.5037 - val_accuracy: 0.8788\n",
      "Epoch 13/20\n",
      "7/7 [==============================] - 0s 18ms/step - loss: 0.0142 - accuracy: 0.9975 - val_loss: 0.6310 - val_accuracy: 0.8586\n",
      "Epoch 14/20\n",
      "7/7 [==============================] - 0s 19ms/step - loss: 0.0123 - accuracy: 0.9975 - val_loss: 0.7238 - val_accuracy: 0.8081\n",
      "Epoch 15/20\n",
      "7/7 [==============================] - 0s 22ms/step - loss: 0.0100 - accuracy: 0.9975 - val_loss: 0.5086 - val_accuracy: 0.8788\n",
      "Epoch 16/20\n",
      "7/7 [==============================] - 0s 29ms/step - loss: 0.0042 - accuracy: 1.0000 - val_loss: 0.4364 - val_accuracy: 0.8990\n",
      "Epoch 17/20\n",
      "7/7 [==============================] - 0s 20ms/step - loss: 0.0026 - accuracy: 1.0000 - val_loss: 0.4663 - val_accuracy: 0.8990\n",
      "Epoch 18/20\n",
      "7/7 [==============================] - 0s 18ms/step - loss: 0.0018 - accuracy: 1.0000 - val_loss: 0.4860 - val_accuracy: 0.8990\n",
      "Epoch 19/20\n",
      "7/7 [==============================] - 0s 20ms/step - loss: 0.0013 - accuracy: 1.0000 - val_loss: 0.5128 - val_accuracy: 0.8990\n",
      "Epoch 20/20\n",
      "7/7 [==============================] - 0s 18ms/step - loss: 9.1241e-04 - accuracy: 1.0000 - val_loss: 0.5390 - val_accuracy: 0.8990\n"
     ]
    },
    {
     "data": {
      "text/plain": [
       "<tensorflow.python.keras.callbacks.History at 0x29885594640>"
      ]
     },
     "execution_count": 19,
     "metadata": {},
     "output_type": "execute_result"
    }
   ],
   "source": [
    "uni_rnn =  UniRNN(cell_type= 'lstm', embed_size= 128, state_sizes= [64, 128],data_manager=dm)#Insert your code here\n",
    "uni_rnn.build()\n",
    "opt = tf.keras.optimizers.RMSprop(learning_rate=0.001)\n",
    "uni_rnn.compile_model(optimizer=opt, loss='sparse_categorical_crossentropy', metrics=['accuracy'])\n",
    "uni_rnn.fit(dm.tf_train_set.batch(64), epochs=20, validation_data = dm.tf_valid_set.batch(64))"
   ]
  },
  {
   "cell_type": "markdown",
   "id": "83e9d1ba",
   "metadata": {},
   "source": [
    "### <span style=\"color:#0b486b\">4.2. Bi-directional RNNs for sequence modeling and neural embedding </span> ###"
   ]
  },
  {
   "cell_type": "code",
   "execution_count": 20,
   "id": "53d27dd7",
   "metadata": {},
   "outputs": [],
   "source": [
    "class BiRNN:\n",
    "    def __init__(self, cell_type= 'gru', embed_size= 128, state_sizes= [128, 64], data_manager= None):\n",
    "        self.cell_type = cell_type\n",
    "        self.state_sizes = state_sizes\n",
    "        self.embed_size = embed_size\n",
    "        self.data_manager = data_manager\n",
    "        self.vocab_size = self.data_manager.vocab_size +1\n",
    "        \n",
    "    @staticmethod\n",
    "    def get_layer(cell_type= 'gru', state_size= 128, return_sequences= False, activation = 'tanh'):\n",
    "        if cell_type=='gru':\n",
    "            #Insert your code here\n",
    "            layer = tf.keras.layers.GRU(state_size,return_sequences= return_sequences, activation = activation)\n",
    "            return tf.keras.layers.Bidirectional(layer )\n",
    "        elif cell_type== 'lstm':\n",
    "            #Insert your code here\n",
    "            layer = tf.keras.layers.LSTM(state_size,return_sequences= return_sequences, activation = activation)\n",
    "            return tf.keras.layers.Bidirectional(layer)\n",
    "        else:\n",
    "            #Insert your code here\n",
    "            layer = tf.keras.layers.RNN(state_size,return_sequences= return_sequences, activation = activation)\n",
    "            return tf.keras.layers.Bidirectional(layer)\n",
    "    \n",
    "    def build(self):\n",
    "        x = tf.keras.layers.Input(shape=[None])\n",
    "        h = tf.keras.layers.Embedding(self.vocab_size, self.embed_size,mask_zero=True)(x)#Insert your code here\n",
    "        num_layers = len(self.state_sizes)#Insert your code here\n",
    "        for i in range(num_layers):\n",
    "            #Insert your code here, add more lines if necessary\n",
    "            if i != num_layers-1:\n",
    "                layer = self.get_layer(state_size=self.state_sizes[i],return_sequences= True)\n",
    "                h=layer(h)\n",
    "            else:\n",
    "                layer = self.get_layer(state_size=self.state_sizes[i])\n",
    "                h=layer(h)\n",
    "        h = tf.keras.layers.Dense(dm.num_classes, activation='softmax')(h)\n",
    "        self.model = tf.keras.Model(inputs=x, outputs=h)\n",
    "        \n",
    "    \n",
    "    def compile_model(self, *args, **kwargs):\n",
    "        self.model.compile(*args, **kwargs)\n",
    "    \n",
    "    def fit(self, *args, **kwargs):\n",
    "        return self.model.fit(*args, **kwargs)\n",
    "    \n",
    "    def evaluate(self, *args, **kwargs):\n",
    "        self.model.evaluate(*args, **kwargs)       \n"
   ]
  },
  {
   "cell_type": "code",
   "execution_count": 21,
   "id": "43d19876",
   "metadata": {},
   "outputs": [
    {
     "name": "stdout",
     "output_type": "stream",
     "text": [
      "Epoch 1/20\n",
      "7/7 [==============================] - 16s 592ms/step - loss: 1.6292 - accuracy: 0.3691 - val_loss: 1.4624 - val_accuracy: 0.3333\n",
      "Epoch 2/20\n",
      "7/7 [==============================] - 0s 29ms/step - loss: 1.1124 - accuracy: 0.5810 - val_loss: 1.1109 - val_accuracy: 0.4949\n",
      "Epoch 3/20\n",
      "7/7 [==============================] - 0s 29ms/step - loss: 0.6880 - accuracy: 0.7481 - val_loss: 0.8296 - val_accuracy: 0.5960\n",
      "Epoch 4/20\n",
      "7/7 [==============================] - 0s 30ms/step - loss: 0.3865 - accuracy: 0.8928 - val_loss: 0.6400 - val_accuracy: 0.8081\n",
      "Epoch 5/20\n",
      "7/7 [==============================] - 0s 29ms/step - loss: 0.1739 - accuracy: 0.9751 - val_loss: 0.6605 - val_accuracy: 0.7879\n",
      "Epoch 6/20\n",
      "7/7 [==============================] - 0s 28ms/step - loss: 0.1168 - accuracy: 0.9726 - val_loss: 0.7166 - val_accuracy: 0.7778\n",
      "Epoch 7/20\n",
      "7/7 [==============================] - 0s 28ms/step - loss: 0.0540 - accuracy: 0.9875 - val_loss: 0.3758 - val_accuracy: 0.8990\n",
      "Epoch 8/20\n",
      "7/7 [==============================] - 0s 30ms/step - loss: 0.0233 - accuracy: 0.9975 - val_loss: 0.4002 - val_accuracy: 0.8990\n",
      "Epoch 9/20\n",
      "7/7 [==============================] - 0s 31ms/step - loss: 0.0116 - accuracy: 1.0000 - val_loss: 0.4105 - val_accuracy: 0.8990\n",
      "Epoch 10/20\n",
      "7/7 [==============================] - 0s 32ms/step - loss: 0.0068 - accuracy: 1.0000 - val_loss: 0.4242 - val_accuracy: 0.9091\n",
      "Epoch 11/20\n",
      "7/7 [==============================] - 0s 30ms/step - loss: 0.0040 - accuracy: 1.0000 - val_loss: 0.4406 - val_accuracy: 0.9091\n",
      "Epoch 12/20\n",
      "7/7 [==============================] - 0s 28ms/step - loss: 0.0024 - accuracy: 1.0000 - val_loss: 0.4586 - val_accuracy: 0.9091\n",
      "Epoch 13/20\n",
      "7/7 [==============================] - 0s 31ms/step - loss: 0.0014 - accuracy: 1.0000 - val_loss: 0.4771 - val_accuracy: 0.9091\n",
      "Epoch 14/20\n",
      "7/7 [==============================] - 0s 28ms/step - loss: 8.8910e-04 - accuracy: 1.0000 - val_loss: 0.4954 - val_accuracy: 0.9091\n",
      "Epoch 15/20\n",
      "7/7 [==============================] - 0s 30ms/step - loss: 5.5742e-04 - accuracy: 1.0000 - val_loss: 0.5130 - val_accuracy: 0.9091\n",
      "Epoch 16/20\n",
      "7/7 [==============================] - 0s 28ms/step - loss: 3.5619e-04 - accuracy: 1.0000 - val_loss: 0.5301 - val_accuracy: 0.9091\n",
      "Epoch 17/20\n",
      "7/7 [==============================] - 0s 29ms/step - loss: 2.3147e-04 - accuracy: 1.0000 - val_loss: 0.5466 - val_accuracy: 0.9091\n",
      "Epoch 18/20\n",
      "7/7 [==============================] - 0s 28ms/step - loss: 1.5257e-04 - accuracy: 1.0000 - val_loss: 0.5629 - val_accuracy: 0.9091\n",
      "Epoch 19/20\n",
      "7/7 [==============================] - 0s 29ms/step - loss: 1.0175e-04 - accuracy: 1.0000 - val_loss: 0.5793 - val_accuracy: 0.8990\n",
      "Epoch 20/20\n",
      "7/7 [==============================] - 0s 30ms/step - loss: 6.8543e-05 - accuracy: 1.0000 - val_loss: 0.5958 - val_accuracy: 0.9091\n"
     ]
    },
    {
     "data": {
      "text/plain": [
       "<tensorflow.python.keras.callbacks.History at 0x2988bdfc340>"
      ]
     },
     "execution_count": 21,
     "metadata": {},
     "output_type": "execute_result"
    }
   ],
   "source": [
    "bi_rnn = BiRNN(cell_type= 'basic_rnn', embed_size= 128, state_sizes= [64, 128],data_manager=dm)#Insert your code here\n",
    "bi_rnn.build()\n",
    "opt = tf.keras.optimizers.RMSprop(learning_rate=0.001)\n",
    "bi_rnn.compile_model(optimizer=opt, loss='sparse_categorical_crossentropy', metrics=['accuracy'])\n",
    "bi_rnn.fit(dm.tf_train_set.batch(64), epochs=20, validation_data = dm.tf_valid_set.batch(64))"
   ]
  },
  {
   "cell_type": "code",
   "execution_count": 22,
   "id": "a3abbf17",
   "metadata": {},
   "outputs": [
    {
     "name": "stdout",
     "output_type": "stream",
     "text": [
      "Epoch 1/20\n",
      "7/7 [==============================] - 16s 627ms/step - loss: 1.6443 - accuracy: 0.4140 - val_loss: 1.5016 - val_accuracy: 0.3939\n",
      "Epoch 2/20\n",
      "7/7 [==============================] - 0s 29ms/step - loss: 1.1007 - accuracy: 0.6359 - val_loss: 1.1554 - val_accuracy: 0.4343\n",
      "Epoch 3/20\n",
      "7/7 [==============================] - 0s 29ms/step - loss: 0.6657 - accuracy: 0.7980 - val_loss: 0.8972 - val_accuracy: 0.5657\n",
      "Epoch 4/20\n",
      "7/7 [==============================] - 0s 29ms/step - loss: 0.3592 - accuracy: 0.9002 - val_loss: 0.7281 - val_accuracy: 0.7172\n",
      "Epoch 5/20\n",
      "7/7 [==============================] - 0s 29ms/step - loss: 0.1641 - accuracy: 0.9676 - val_loss: 0.5150 - val_accuracy: 0.8081\n",
      "Epoch 6/20\n",
      "7/7 [==============================] - 0s 28ms/step - loss: 0.0727 - accuracy: 0.9825 - val_loss: 0.3848 - val_accuracy: 0.8586\n",
      "Epoch 7/20\n",
      "7/7 [==============================] - 0s 28ms/step - loss: 0.0331 - accuracy: 0.9900 - val_loss: 0.3151 - val_accuracy: 0.8990\n",
      "Epoch 8/20\n",
      "7/7 [==============================] - 0s 29ms/step - loss: 0.0175 - accuracy: 0.9975 - val_loss: 0.3291 - val_accuracy: 0.8990\n",
      "Epoch 9/20\n",
      "7/7 [==============================] - 0s 35ms/step - loss: 0.0089 - accuracy: 1.0000 - val_loss: 0.3503 - val_accuracy: 0.8889\n",
      "Epoch 10/20\n",
      "7/7 [==============================] - 0s 32ms/step - loss: 0.0046 - accuracy: 1.0000 - val_loss: 0.3768 - val_accuracy: 0.8889\n",
      "Epoch 11/20\n",
      "7/7 [==============================] - 0s 33ms/step - loss: 0.0025 - accuracy: 1.0000 - val_loss: 0.4037 - val_accuracy: 0.8788\n",
      "Epoch 12/20\n",
      "7/7 [==============================] - 0s 30ms/step - loss: 0.0014 - accuracy: 1.0000 - val_loss: 0.4279 - val_accuracy: 0.8788\n",
      "Epoch 13/20\n",
      "7/7 [==============================] - 0s 29ms/step - loss: 8.3007e-04 - accuracy: 1.0000 - val_loss: 0.4485 - val_accuracy: 0.8788\n",
      "Epoch 14/20\n",
      "7/7 [==============================] - 0s 31ms/step - loss: 5.0791e-04 - accuracy: 1.0000 - val_loss: 0.4657 - val_accuracy: 0.8788\n",
      "Epoch 15/20\n",
      "7/7 [==============================] - 0s 29ms/step - loss: 3.1907e-04 - accuracy: 1.0000 - val_loss: 0.4805 - val_accuracy: 0.8788\n",
      "Epoch 16/20\n",
      "7/7 [==============================] - 0s 29ms/step - loss: 2.0462e-04 - accuracy: 1.0000 - val_loss: 0.4942 - val_accuracy: 0.8788\n",
      "Epoch 17/20\n",
      "7/7 [==============================] - 0s 36ms/step - loss: 1.3340e-04 - accuracy: 1.0000 - val_loss: 0.5075 - val_accuracy: 0.8889\n",
      "Epoch 18/20\n",
      "7/7 [==============================] - 0s 32ms/step - loss: 8.8154e-05 - accuracy: 1.0000 - val_loss: 0.5211 - val_accuracy: 0.8889\n",
      "Epoch 19/20\n",
      "7/7 [==============================] - 0s 29ms/step - loss: 5.8942e-05 - accuracy: 1.0000 - val_loss: 0.5350 - val_accuracy: 0.8889\n",
      "Epoch 20/20\n",
      "7/7 [==============================] - 0s 30ms/step - loss: 3.9813e-05 - accuracy: 1.0000 - val_loss: 0.5490 - val_accuracy: 0.8889\n"
     ]
    },
    {
     "data": {
      "text/plain": [
       "<tensorflow.python.keras.callbacks.History at 0x298b6f1a610>"
      ]
     },
     "execution_count": 22,
     "metadata": {},
     "output_type": "execute_result"
    }
   ],
   "source": [
    "bi_rnn =BiRNN(cell_type= 'gru', embed_size= 128, state_sizes= [64, 128],data_manager=dm) #Insert your code here\n",
    "bi_rnn.build()\n",
    "opt = tf.keras.optimizers.RMSprop(learning_rate=0.001)\n",
    "bi_rnn.compile_model(optimizer=opt, loss='sparse_categorical_crossentropy', metrics=['accuracy'])\n",
    "bi_rnn.fit(dm.tf_train_set.batch(64), epochs=20, validation_data = dm.tf_valid_set.batch(64))"
   ]
  },
  {
   "cell_type": "code",
   "execution_count": 23,
   "id": "4c4895fe",
   "metadata": {},
   "outputs": [
    {
     "name": "stdout",
     "output_type": "stream",
     "text": [
      "Epoch 1/20\n",
      "7/7 [==============================] - 15s 636ms/step - loss: 1.6284 - accuracy: 0.4214 - val_loss: 1.3852 - val_accuracy: 0.3939\n",
      "Epoch 2/20\n",
      "7/7 [==============================] - 0s 31ms/step - loss: 1.0185 - accuracy: 0.6284 - val_loss: 1.0772 - val_accuracy: 0.4949\n",
      "Epoch 3/20\n",
      "7/7 [==============================] - 0s 28ms/step - loss: 0.6390 - accuracy: 0.7606 - val_loss: 0.8869 - val_accuracy: 0.5354\n",
      "Epoch 4/20\n",
      "7/7 [==============================] - 0s 29ms/step - loss: 0.3780 - accuracy: 0.9002 - val_loss: 0.9091 - val_accuracy: 0.6768\n",
      "Epoch 5/20\n",
      "7/7 [==============================] - 0s 28ms/step - loss: 0.1862 - accuracy: 0.9651 - val_loss: 1.1853 - val_accuracy: 0.6768\n",
      "Epoch 6/20\n",
      "7/7 [==============================] - 0s 31ms/step - loss: 0.0925 - accuracy: 0.9825 - val_loss: 0.4176 - val_accuracy: 0.8384\n",
      "Epoch 7/20\n",
      "7/7 [==============================] - 0s 28ms/step - loss: 0.0536 - accuracy: 0.9875 - val_loss: 0.4220 - val_accuracy: 0.8485\n",
      "Epoch 8/20\n",
      "7/7 [==============================] - 0s 28ms/step - loss: 0.0267 - accuracy: 0.9950 - val_loss: 0.4363 - val_accuracy: 0.8586\n",
      "Epoch 9/20\n",
      "7/7 [==============================] - 0s 29ms/step - loss: 0.0143 - accuracy: 0.9975 - val_loss: 0.4674 - val_accuracy: 0.8687\n",
      "Epoch 10/20\n",
      "7/7 [==============================] - 0s 28ms/step - loss: 0.0077 - accuracy: 1.0000 - val_loss: 0.4975 - val_accuracy: 0.8586\n",
      "Epoch 11/20\n",
      "7/7 [==============================] - 0s 30ms/step - loss: 0.0042 - accuracy: 1.0000 - val_loss: 0.5326 - val_accuracy: 0.8687\n",
      "Epoch 12/20\n",
      "7/7 [==============================] - 0s 28ms/step - loss: 0.0024 - accuracy: 1.0000 - val_loss: 0.5753 - val_accuracy: 0.8687\n",
      "Epoch 13/20\n",
      "7/7 [==============================] - 0s 28ms/step - loss: 0.0014 - accuracy: 1.0000 - val_loss: 0.6205 - val_accuracy: 0.8586\n",
      "Epoch 14/20\n",
      "7/7 [==============================] - 0s 29ms/step - loss: 8.5322e-04 - accuracy: 1.0000 - val_loss: 0.6680 - val_accuracy: 0.8586\n",
      "Epoch 15/20\n",
      "7/7 [==============================] - 0s 29ms/step - loss: 5.2886e-04 - accuracy: 1.0000 - val_loss: 0.7164 - val_accuracy: 0.8586\n",
      "Epoch 16/20\n",
      "7/7 [==============================] - 0s 28ms/step - loss: 3.3564e-04 - accuracy: 1.0000 - val_loss: 0.7571 - val_accuracy: 0.8586\n",
      "Epoch 17/20\n",
      "7/7 [==============================] - 0s 28ms/step - loss: 2.1824e-04 - accuracy: 1.0000 - val_loss: 0.8549 - val_accuracy: 0.8485\n",
      "Epoch 18/20\n",
      "7/7 [==============================] - 0s 28ms/step - loss: 1.5004e-04 - accuracy: 1.0000 - val_loss: 0.8251 - val_accuracy: 0.8485\n",
      "Epoch 19/20\n",
      "7/7 [==============================] - 0s 28ms/step - loss: 0.2202 - accuracy: 0.9651 - val_loss: 0.6191 - val_accuracy: 0.8990\n",
      "Epoch 20/20\n",
      "7/7 [==============================] - 0s 27ms/step - loss: 0.0234 - accuracy: 0.9950 - val_loss: 0.5937 - val_accuracy: 0.9091\n"
     ]
    },
    {
     "data": {
      "text/plain": [
       "<tensorflow.python.keras.callbacks.History at 0x298d1b7f580>"
      ]
     },
     "execution_count": 23,
     "metadata": {},
     "output_type": "execute_result"
    }
   ],
   "source": [
    "bi_rnn = BiRNN(cell_type= 'lstm', embed_size= 128, state_sizes= [64, 128],data_manager=dm)#Insert your code here\n",
    "bi_rnn.build()\n",
    "opt = tf.keras.optimizers.RMSprop(learning_rate=0.001)\n",
    "bi_rnn.compile_model(optimizer=opt, loss='sparse_categorical_crossentropy', metrics=['accuracy'])\n",
    "bi_rnn.fit(dm.tf_train_set.batch(64), epochs=20, validation_data = dm.tf_valid_set.batch(64))"
   ]
  },
  {
   "cell_type": "code",
   "execution_count": 36,
   "id": "c46ce64e",
   "metadata": {},
   "outputs": [],
   "source": [
    "class RNN:\n",
    "    def __init__(self, run_mode = 'scratch', cell_type= 'gru', network_type = 'uni-directional', embed_model= 'glove-wiki-gigaword-100', \n",
    "                 embed_size= 128, state_sizes = [64, 64], data_manager = None):\n",
    "        self.run_mode = run_mode\n",
    "        self.data_manager = data_manager\n",
    "        self.cell_type = cell_type\n",
    "        self.network_type = network_type\n",
    "        self.state_sizes = state_sizes\n",
    "        self.embed_model = embed_model\n",
    "        self.embed_size = embed_size\n",
    "        if self.run_mode != 'scratch':\n",
    "            self.embed_size = int(self.embed_model.split(\"-\")[-1])\n",
    "        self.data_manager = data_manager\n",
    "        self.vocab_size = dm.vocab_size +1\n",
    "        self.word2idx = dm.word2idx\n",
    "        self.word2vect = None\n",
    "        self.embed_matrix = np.zeros(shape= [self.vocab_size, self.embed_size])\n",
    "    \n",
    "    def build_embedding_matrix(self):\n",
    "        #Insert your code here\n",
    "        self.word2vect = api.load(self.embed_model) # load embedding model\n",
    "        for word, idx in self.word2idx.items():\n",
    "            try:\n",
    "                self.embed_matrix[idx] = self.word2vect.get_vector(word) # assign weight for the corresponding word and index\n",
    "            except KeyError: # word cannot be found\n",
    "                pass\n",
    "    \n",
    "    @staticmethod\n",
    "    def get_layer(cell_type= 'gru', network_type= 'uni-directional', hidden_size= 128, return_sequences= False,activation = 'tanh'):\n",
    "        #Insert your code here\n",
    "        if network_type== 'uni-directional':\n",
    "            if cell_type=='gru':\n",
    "                return tf.keras.layers.GRU(hidden_size,return_sequences= return_sequences,activation = activation)\n",
    "            elif cell_type== 'lstm':\n",
    "                return tf.keras.layers.LSTM(hidden_size,return_sequences= return_sequences,activation = activation)\n",
    "            else:\n",
    "                return tf.keras.layers.SimpleRNN(hidden_size,return_sequences= return_sequences,activation = activation)\n",
    "        \n",
    "        if network_type== 'bi-directional':\n",
    "            if cell_type=='gru':\n",
    "                layer = tf.keras.layers.GRU(state_size,return_sequences= return_sequences,activation = activation)\n",
    "                return tf.keras.layers.Bidirectional(layer)\n",
    "            elif cell_type== 'lstm':\n",
    "                layer = tf.keras.layers.LSTM(state_size,return_sequences= return_sequences,activation = activation)\n",
    "                return tf.keras.layers.Bidirectional(layer)\n",
    "            else:\n",
    "                layer = tf.keras.layers.RNN(state_size,return_sequences= return_sequences,activation = activation)\n",
    "                return tf.keras.layers.Bidirectional(layer)\n",
    "        \n",
    "    def build(self):\n",
    "        #Insert your code here\n",
    "        x = tf.keras.layers.Input(shape=[None])\n",
    "        if self.run_mode == \"scratch\":# scratch\n",
    "            self.embedding_layer = tf.keras.layers.Embedding(self.vocab_size, self.embed_size, mask_zero=True, trainable=True)\n",
    "        elif self.run_mode == \"init-only\":# init-only\n",
    "            self.build_embedding_matrix()\n",
    "            self.embedding_layer = tf.keras.layers.Embedding(self.vocab_size, self.embed_size,weights= [self.embed_matrix], trainable= False,mask_zero=True) \n",
    "        else: # fine-tuned\n",
    "            self.build_embedding_matrix()\n",
    "            self.embedding_layer = tf.keras.layers.Embedding(self.vocab_size, self.embed_size, mask_zero=True, trainable=True,weights=[self.embed_matrix])    \n",
    "        \n",
    "        h = tf.keras.layers.Embedding(self.vocab_size, self.embed_size,mask_zero=True)(x)#Insert your code here\n",
    "        num_layers = len(self.state_sizes)#Insert your code here\n",
    "        for i in range(num_layers):\n",
    "            #Insert your code here, add more lines if necessary\n",
    "            if i != num_layers-1:\n",
    "                layer = self.get_layer(hidden_size=self.state_sizes[i],return_sequences= True)\n",
    "                h=layer(h)\n",
    "            else:\n",
    "                layer = self.get_layer(hidden_size=self.state_sizes[i])\n",
    "                h=layer(h)\n",
    "        h = tf.keras.layers.Dense(dm.num_classes, activation='softmax')(h)\n",
    "        self.model = tf.keras.Model(inputs=x, outputs=h)\n",
    "        \n",
    "    def compile_model(self, *args, **kwargs):\n",
    "        self.model.compile(*args, **kwargs)\n",
    "    \n",
    "    def fit(self, *args, **kwargs):\n",
    "        return self.model.fit(*args, **kwargs)\n",
    "    \n",
    "    def evaluate(self, *args, **kwargs):\n",
    "        self.model.evaluate(*args, **kwargs)       \n"
   ]
  },
  {
   "cell_type": "markdown",
   "id": "a1c96873",
   "metadata": {},
   "source": [
    "### <span style=\"color:#0b486b\">4.4. RNNs with Attention for Text and Sequence Classification</span> ###"
   ]
  },
  {
   "cell_type": "code",
   "execution_count": 25,
   "id": "94af05f2",
   "metadata": {},
   "outputs": [],
   "source": [
    "class MyAttention(tf.keras.layers.Layer):\n",
    "    def __init__(self, output_length= 50):\n",
    "        super(MyAttention, self).__init__()\n",
    "        self.W1 = tf.keras.layers.Dense(output_length)\n",
    "        self.W2 = tf.keras.layers.Dense(output_length)\n",
    "        self.V = tf.keras.layers.Dense(1)\n",
    "        \n",
    "    #all_states is the collection of all hidden states and last_state is the last hidden state\n",
    "    def call(self, all_states, last_state):\n",
    "        #Insert your code here\n",
    "        all_states_extend = tf.expand_dims(all_states, axis=1)\n",
    "        attention_score = self.V(tf.keras.activations.tanh(self.W1(last_state) + self.W2(all_states_extend)))\n",
    "        attention_weight = tf.nn.softmax(attention_score, axis=1)\n",
    "        context = tf.reduce_sum(tf.linalg.matmul(tf.transpose(attention_weight, perm=[0,2,1]), last_state), axis=1)\n",
    "        return context, attention_weight"
   ]
  },
  {
   "cell_type": "code",
   "execution_count": 26,
   "id": "e604579f",
   "metadata": {},
   "outputs": [],
   "source": [
    "from tensorflow.python.keras.layers import Concatenate"
   ]
  },
  {
   "cell_type": "code",
   "execution_count": 27,
   "id": "83380e43",
   "metadata": {},
   "outputs": [],
   "source": [
    "class Attention_RNN:\n",
    "    def __init__(self, run_mode = 'scratch', cell_type= 'gru', network_type = 'uni-directional', embed_model= 'glove-wiki-gigaword-100', \n",
    "                 embed_size= 128, state_sizes = [64, 64], data_manager = None):\n",
    "        self.run_mode = run_mode\n",
    "        self.data_manager = data_manager\n",
    "        self.cell_type = cell_type\n",
    "        self.network_type = network_type\n",
    "        self.state_sizes = state_sizes\n",
    "        self.embed_model = embed_model\n",
    "        self.embed_size = embed_size\n",
    "        if self.run_mode != 'scratch':\n",
    "            self.embed_size = int(self.embed_model.split(\"-\")[-1])\n",
    "        self.data_manager = data_manager\n",
    "        self.vocab_size = dm.vocab_size +1\n",
    "        self.word2idx = dm.word2idx\n",
    "        self.word2vect = None\n",
    "        self.embed_matrix = np.zeros(shape= [self.vocab_size, self.embed_size])\n",
    "    \n",
    "    def build_embedding_matrix(self):\n",
    "        #Insert your code here\n",
    "        self.word2vect = api.load(self.embed_model) # load embedding model\n",
    "        for word, idx in self.word2idx.items():\n",
    "            try:\n",
    "                self.embed_matrix[idx] = self.word2vect.get_vector(word) # assign weight for the corresponding word and index\n",
    "            except KeyError: # word cannot be found\n",
    "                pass\n",
    "    \n",
    "    @staticmethod\n",
    "    def get_layer(cell_type= 'gru', network_type= 'uni-directional', hidden_size= 128, return_sequences= False, activation = 'tanh', return_state=True):\n",
    "        #Insert your code here\n",
    "        if network_type== 'uni-directional':\n",
    "            if cell_type=='gru':\n",
    "                return tf.keras.layers.GRU(hidden_size,return_sequences= return_sequences,activation = activation, return_state=return_state)\n",
    "            elif cell_type== 'lstm':\n",
    "                return tf.keras.layers.LSTM(hidden_size,return_sequences= return_sequences,activation = activation, return_state=return_state)\n",
    "            else:\n",
    "                return tf.keras.layers.SimpleRNN(hidden_size,return_sequences= return_sequences,activation = activation, return_state=return_state)\n",
    "        \n",
    "        if network_type== 'bi-directional':\n",
    "            if cell_type=='gru':\n",
    "                layer = tf.keras.layers.GRU(state_size,return_sequences= return_sequences,activation = activation, return_state=return_state)\n",
    "                return tf.keras.layers.Bidirectional(layer)\n",
    "            elif cell_type== 'lstm':\n",
    "                layer = tf.keras.layers.LSTM(state_size,return_sequences= return_sequences,activation = activation, return_state=return_state)\n",
    "                return tf.keras.layers.Bidirectional(layer)\n",
    "            else:\n",
    "                layer = tf.keras.layers.RNN(state_size,return_sequences= return_sequences,activation = activation, return_state=return_state)\n",
    "                return tf.keras.layers.Bidirectional(layer)\n",
    "    \n",
    "    def build(self):\n",
    "         #Insert your code here\n",
    "        x = tf.keras.layers.Input(shape=[None])\n",
    "        if self.run_mode == \"scratch\":# scratch\n",
    "            self.embedding_layer = tf.keras.layers.Embedding(self.vocab_size, self.embed_size, mask_zero=True, trainable=True)\n",
    "        elif self.run_mode == \"init-only\":# init-only\n",
    "            self.build_embedding_matrix()\n",
    "            self.embedding_layer = tf.keras.layers.Embedding(self.vocab_size, self.embed_size,weights= [self.embed_matrix], trainable= False,mask_zero=True) \n",
    "        else: # fine-tuned\n",
    "            self.build_embedding_matrix()\n",
    "            self.embedding_layer = tf.keras.layers.Embedding(self.vocab_size, self.embed_size, mask_zero=True, trainable=True,weights=[self.embed_matrix])    \n",
    "        \n",
    "        h = tf.keras.layers.Embedding(self.vocab_size, self.embed_size,mask_zero=True)(x)#Insert your code here\n",
    "        num_layers = len(self.state_sizes)#Insert your code here\n",
    "        for i in range(num_layers):\n",
    "            #Insert your code here, add more lines if necessary\n",
    "            layer = self.get_layer(hidden_size=self.state_sizes[i],return_sequences= True, return_state=True)\n",
    "            h=layer(h)\n",
    "            \n",
    "        context,attention_weights=MyAttention(50)(h[1],h[0])\n",
    "        h = Concatenate()([context,h[1]]) \n",
    "        h = tf.keras.layers.Dense(dm.num_classes, activation='softmax')(h)\n",
    "        self.model = tf.keras.Model(inputs=x, outputs=h)\n",
    "        \n",
    "    def compile_model(self, *args, **kwargs):\n",
    "        self.model.compile(*args, **kwargs)\n",
    "    \n",
    "    def fit(self, *args, **kwargs):\n",
    "        return self.model.fit(*args, **kwargs)\n",
    "    \n",
    "    def evaluate(self, *args, **kwargs):\n",
    "        self.model.evaluate(*args, **kwargs)       \n",
    "    \n",
    "    def summary(self, *args, **kwargs):\n",
    "        self.model.summary(*args, **kwargs)     \n"
   ]
  },
  {
   "cell_type": "code",
   "execution_count": 28,
   "id": "e07550aa",
   "metadata": {},
   "outputs": [],
   "source": [
    "# Attention RNN model here\n",
    "attention_rnn = Attention_RNN(data_manager=dm, run_mode= 'scratch',cell_type= \"simple-rnn\", embed_size= 128, state_sizes= [64, 64])\n",
    "attention_rnn.build()"
   ]
  },
  {
   "cell_type": "code",
   "execution_count": 29,
   "id": "4e666a54",
   "metadata": {},
   "outputs": [
    {
     "name": "stdout",
     "output_type": "stream",
     "text": [
      "Epoch 1/20\n",
      "7/7 [==============================] - 8s 339ms/step - loss: 1.7373 - accuracy: 0.3641 - val_loss: 1.6367 - val_accuracy: 0.2828\n",
      "Epoch 2/20\n",
      "7/7 [==============================] - 0s 20ms/step - loss: 1.4363 - accuracy: 0.4489 - val_loss: 1.3382 - val_accuracy: 0.4141\n",
      "Epoch 3/20\n",
      "7/7 [==============================] - 0s 27ms/step - loss: 1.0333 - accuracy: 0.5885 - val_loss: 1.1305 - val_accuracy: 0.4848\n",
      "Epoch 4/20\n",
      "7/7 [==============================] - 0s 27ms/step - loss: 0.7536 - accuracy: 0.6683 - val_loss: 0.9917 - val_accuracy: 0.4949\n",
      "Epoch 5/20\n",
      "7/7 [==============================] - 0s 26ms/step - loss: 0.5529 - accuracy: 0.7930 - val_loss: 0.9169 - val_accuracy: 0.5859\n",
      "Epoch 6/20\n",
      "7/7 [==============================] - 0s 20ms/step - loss: 0.4061 - accuracy: 0.8579 - val_loss: 0.6848 - val_accuracy: 0.6364\n",
      "Epoch 7/20\n",
      "7/7 [==============================] - 0s 21ms/step - loss: 0.2761 - accuracy: 0.9327 - val_loss: 0.5966 - val_accuracy: 0.7071\n",
      "Epoch 8/20\n",
      "7/7 [==============================] - 0s 23ms/step - loss: 0.1601 - accuracy: 0.9726 - val_loss: 0.4859 - val_accuracy: 0.7879\n",
      "Epoch 9/20\n",
      "7/7 [==============================] - 0s 22ms/step - loss: 0.0994 - accuracy: 0.9875 - val_loss: 0.4440 - val_accuracy: 0.7879\n",
      "Epoch 10/20\n",
      "7/7 [==============================] - 0s 20ms/step - loss: 0.0695 - accuracy: 0.9900 - val_loss: 0.3883 - val_accuracy: 0.8485\n",
      "Epoch 11/20\n",
      "7/7 [==============================] - 0s 21ms/step - loss: 0.0481 - accuracy: 0.9950 - val_loss: 0.3707 - val_accuracy: 0.8687\n",
      "Epoch 12/20\n",
      "7/7 [==============================] - 0s 22ms/step - loss: 0.0403 - accuracy: 0.9950 - val_loss: 0.3402 - val_accuracy: 0.8586\n",
      "Epoch 13/20\n",
      "7/7 [==============================] - 0s 20ms/step - loss: 0.0264 - accuracy: 0.9975 - val_loss: 0.2766 - val_accuracy: 0.8889\n",
      "Epoch 14/20\n",
      "7/7 [==============================] - 0s 19ms/step - loss: 0.0150 - accuracy: 1.0000 - val_loss: 0.2743 - val_accuracy: 0.8990\n",
      "Epoch 15/20\n",
      "7/7 [==============================] - 0s 22ms/step - loss: 0.0103 - accuracy: 1.0000 - val_loss: 0.2945 - val_accuracy: 0.8889\n",
      "Epoch 16/20\n",
      "7/7 [==============================] - 0s 22ms/step - loss: 0.0070 - accuracy: 1.0000 - val_loss: 0.3199 - val_accuracy: 0.8889\n",
      "Epoch 17/20\n",
      "7/7 [==============================] - 0s 20ms/step - loss: 0.0048 - accuracy: 1.0000 - val_loss: 0.3419 - val_accuracy: 0.8990\n",
      "Epoch 18/20\n",
      "7/7 [==============================] - 0s 21ms/step - loss: 0.0033 - accuracy: 1.0000 - val_loss: 0.3637 - val_accuracy: 0.8990\n",
      "Epoch 19/20\n",
      "7/7 [==============================] - 0s 21ms/step - loss: 0.0023 - accuracy: 1.0000 - val_loss: 0.3933 - val_accuracy: 0.8990\n",
      "Epoch 20/20\n",
      "7/7 [==============================] - 0s 20ms/step - loss: 0.0017 - accuracy: 1.0000 - val_loss: 0.4282 - val_accuracy: 0.8889\n"
     ]
    },
    {
     "data": {
      "text/plain": [
       "<tensorflow.python.keras.callbacks.History at 0x298d1c60b50>"
      ]
     },
     "execution_count": 29,
     "metadata": {},
     "output_type": "execute_result"
    }
   ],
   "source": [
    "opt = tf.keras.optimizers.RMSprop(learning_rate=0.001)\n",
    "attention_rnn.compile_model(optimizer=opt, loss='sparse_categorical_crossentropy', metrics=['accuracy'])\n",
    "attention_rnn.fit(dm.tf_train_set.batch(64), batch_size=32 ,epochs=20, validation_data = dm.tf_valid_set.batch(64))"
   ]
  },
  {
   "cell_type": "markdown",
   "id": "4678dd91",
   "metadata": {},
   "source": [
    "### <span style=\"color:#0b486b\">4.5. Investigating the embedding vectors from the embedding matrix</span> ###"
   ]
  },
  {
   "cell_type": "code",
   "execution_count": 31,
   "id": "712dba18",
   "metadata": {},
   "outputs": [],
   "source": [
    "def cosine_similarity(u,v):\n",
    "    return np.dot(u,v)/(np.linalg.norm(u)*np.linalg.norm(v))"
   ]
  },
  {
   "cell_type": "code",
   "execution_count": 32,
   "id": "30385378",
   "metadata": {},
   "outputs": [],
   "source": [
    "import copy \n",
    "def sort_max(list_result = None,k=5):\n",
    "    t= copy.deepcopy(list_result)\n",
    "    max_number = []\n",
    "    max_index = []\n",
    "    for _ in range(k+1):\n",
    "        number = max(t)\n",
    "        index = t.index(number)\n",
    "        t[index] = 0\n",
    "        max_number.append(number)\n",
    "        max_index.append(index)\n",
    "    t = []\n",
    "    return max_number,max_index"
   ]
  },
  {
   "cell_type": "code",
   "execution_count": 33,
   "id": "c1642435",
   "metadata": {},
   "outputs": [],
   "source": [
    "def find_most_similar(word= None, k=5, model= None):\n",
    "    try:\n",
    "        # Insert your code here\n",
    "        word_vect_list =  model.embed_matrix\n",
    "        word_vec = model.word2vect.get_vector(word)\n",
    "        result = []\n",
    "        for i in  word_vect_list :\n",
    "            result.append( cosine_similarity(i,word_vec))\n",
    "        sorted_prob,sorted_index = sort_max(result,k)\n",
    "        relevant_words = []\n",
    "        for i in sorted_index[1:]:\n",
    "            if list(my_best_rnn.word2idx.keys())[i] in word2vect:\n",
    "                relevant_words.append(list(model.word2idx.keys())[i])\n",
    "        for i in range(1,k):\n",
    "            print('word: '+ relevant_words[i] + '        similarity:' + str(sorted_prob[i]))\n",
    "    except: #word not in the vocabulary\n",
    "        print(\"Word is not in the dictionary!\")\n",
    "\n",
    "    return relevant_words"
   ]
  },
  {
   "cell_type": "code",
   "execution_count": 37,
   "id": "d7b3f5c8",
   "metadata": {},
   "outputs": [
    {
     "name": "stdout",
     "output_type": "stream",
     "text": [
      "Epoch 1/20\n",
      "7/7 [==============================] - 7s 287ms/step - loss: 1.7285 - accuracy: 0.3541 - val_loss: 1.6292 - val_accuracy: 0.2626\n",
      "Epoch 2/20\n",
      "7/7 [==============================] - 0s 17ms/step - loss: 1.4161 - accuracy: 0.4539 - val_loss: 1.2900 - val_accuracy: 0.4040\n",
      "Epoch 3/20\n",
      "7/7 [==============================] - 0s 18ms/step - loss: 1.0392 - accuracy: 0.5736 - val_loss: 1.1180 - val_accuracy: 0.4949\n",
      "Epoch 4/20\n",
      "7/7 [==============================] - 0s 17ms/step - loss: 0.8055 - accuracy: 0.6708 - val_loss: 1.0034 - val_accuracy: 0.5152\n",
      "Epoch 5/20\n",
      "7/7 [==============================] - 0s 17ms/step - loss: 0.6595 - accuracy: 0.7207 - val_loss: 0.9064 - val_accuracy: 0.5657\n",
      "Epoch 6/20\n",
      "7/7 [==============================] - 0s 18ms/step - loss: 0.4916 - accuracy: 0.8130 - val_loss: 0.8122 - val_accuracy: 0.5960\n",
      "Epoch 7/20\n",
      "7/7 [==============================] - 0s 16ms/step - loss: 0.3794 - accuracy: 0.8653 - val_loss: 0.7111 - val_accuracy: 0.6364\n",
      "Epoch 8/20\n",
      "7/7 [==============================] - 0s 16ms/step - loss: 0.3092 - accuracy: 0.9252 - val_loss: 0.6132 - val_accuracy: 0.7374\n",
      "Epoch 9/20\n",
      "7/7 [==============================] - 0s 17ms/step - loss: 0.2288 - accuracy: 0.9451 - val_loss: 0.5509 - val_accuracy: 0.7778\n",
      "Epoch 10/20\n",
      "7/7 [==============================] - 0s 16ms/step - loss: 0.1561 - accuracy: 0.9800 - val_loss: 0.4997 - val_accuracy: 0.8182\n",
      "Epoch 11/20\n",
      "7/7 [==============================] - 0s 17ms/step - loss: 0.1080 - accuracy: 0.9900 - val_loss: 0.4581 - val_accuracy: 0.8384\n",
      "Epoch 12/20\n",
      "7/7 [==============================] - 0s 18ms/step - loss: 0.0797 - accuracy: 0.9900 - val_loss: 0.4004 - val_accuracy: 0.8586\n",
      "Epoch 13/20\n",
      "7/7 [==============================] - 0s 16ms/step - loss: 0.0559 - accuracy: 0.9925 - val_loss: 0.3759 - val_accuracy: 0.8788\n",
      "Epoch 14/20\n",
      "7/7 [==============================] - 0s 16ms/step - loss: 0.0355 - accuracy: 0.9975 - val_loss: 0.3588 - val_accuracy: 0.8889\n",
      "Epoch 15/20\n",
      "7/7 [==============================] - 0s 16ms/step - loss: 0.0245 - accuracy: 0.9975 - val_loss: 0.3526 - val_accuracy: 0.8990\n",
      "Epoch 16/20\n",
      "7/7 [==============================] - 0s 18ms/step - loss: 0.0171 - accuracy: 0.9975 - val_loss: 0.3526 - val_accuracy: 0.8990\n",
      "Epoch 17/20\n",
      "7/7 [==============================] - 0s 17ms/step - loss: 0.0117 - accuracy: 1.0000 - val_loss: 0.3624 - val_accuracy: 0.8990\n",
      "Epoch 18/20\n",
      "7/7 [==============================] - 0s 16ms/step - loss: 0.0079 - accuracy: 1.0000 - val_loss: 0.3710 - val_accuracy: 0.9091\n",
      "Epoch 19/20\n",
      "7/7 [==============================] - 0s 16ms/step - loss: 0.0054 - accuracy: 1.0000 - val_loss: 0.3762 - val_accuracy: 0.9091\n",
      "Epoch 20/20\n",
      "7/7 [==============================] - 0s 18ms/step - loss: 0.0037 - accuracy: 1.0000 - val_loss: 0.3914 - val_accuracy: 0.9091\n"
     ]
    },
    {
     "data": {
      "text/plain": [
       "<tensorflow.python.keras.callbacks.History at 0x2990d3e4070>"
      ]
     },
     "execution_count": 37,
     "metadata": {},
     "output_type": "execute_result"
    }
   ],
   "source": [
    "#The run of your best model here\n",
    "my_best_rnn = RNN(data_manager=dm, run_mode= 'init-fine-tune',cell_type= \"lstm\", embed_size= 128, state_sizes= [64, 64])\n",
    "my_best_rnn.build()\n",
    "opt = tf.keras.optimizers.RMSprop(learning_rate=0.001)\n",
    "my_best_rnn.compile_model(optimizer=opt, loss='sparse_categorical_crossentropy', metrics=['accuracy'])\n",
    "my_best_rnn.fit(dm.tf_train_set.batch(64), epochs=20, validation_data = dm.tf_valid_set.batch(64))"
   ]
  },
  {
   "cell_type": "code",
   "execution_count": 38,
   "id": "05b6793b",
   "metadata": {},
   "outputs": [
    {
     "name": "stdout",
     "output_type": "stream",
     "text": [
      "word: sodium        similarity:1.0000000625158034\n",
      "word: perc        similarity:0.6282327806133579\n",
      "word: union        similarity:0.6275121311923354\n",
      "word: poliomyelitis        similarity:0.6134158319607024\n",
      "word: lyndon        similarity:0.5910070940300681\n",
      "word: milan        similarity:0.5765769885604871\n",
      "word: venezuela        similarity:0.5606420614998747\n",
      "word: phenylalanine        similarity:0.5559694089549403\n",
      "word: difference        similarity:0.5534725213552724\n"
     ]
    },
    {
     "name": "stderr",
     "output_type": "stream",
     "text": [
      "C:\\Users\\24653\\AppData\\Local\\Temp/ipykernel_33076/3876430330.py:2: RuntimeWarning: invalid value encountered in double_scalars\n",
      "  return np.dot(u,v)/(np.linalg.norm(u)*np.linalg.norm(v))\n"
     ]
    },
    {
     "data": {
      "text/plain": [
       "['people',\n",
       " 'sodium',\n",
       " 'perc',\n",
       " 'union',\n",
       " 'poliomyelitis',\n",
       " 'lyndon',\n",
       " 'milan',\n",
       " 'venezuela',\n",
       " 'phenylalanine',\n",
       " 'difference']"
      ]
     },
     "execution_count": 38,
     "metadata": {},
     "output_type": "execute_result"
    }
   ],
   "source": [
    "find_most_similar(word='poland', k=10, model= my_best_rnn)"
   ]
  },
  {
   "cell_type": "code",
   "execution_count": 39,
   "id": "cc45db9d",
   "metadata": {},
   "outputs": [],
   "source": [
    "from mpl_toolkits.mplot3d import Axes3D\n",
    "from sklearn.manifold import TSNE\n",
    "tsne = TSNE(perplexity=30, n_components=3, init='pca', n_iter=5000)\n",
    "def plot3D_with_labels(word= None, model= None, k= 10):\n",
    "   #Insert yout codeh here\n",
    "    word_list = find_most_similar(word=word, k=k, model= model)\n",
    "    word_list.append(word)\n",
    "    low_dim_embs = tsne.fit_transform([model.word2vect.get_vector(item) for item in word_list if item in word2vect])\n",
    "    fig = plt.figure(figsize=(10, 10))\n",
    "    ax = fig.add_subplot(111, projection='3d')\n",
    "    for i, label in enumerate(word_list):\n",
    "        if label != word:\n",
    "            x,y,z =  low_dim_embs[i,:]\n",
    "            ax.scatter(x, y, z)\n",
    "            ax.text(x, y, z, label, color='green')\n",
    "        else:\n",
    "            x,y,z =  low_dim_embs[i,:]\n",
    "            ax.scatter(x, y, z)\n",
    "            ax.text(x, y, z, label, color='red')\n",
    "\n",
    "    ax.set_xlabel('dim-one')\n",
    "    ax.set_ylabel('dim-two')\n",
    "    ax.set_zlabel('dim-three')\n",
    "    plt.show()"
   ]
  },
  {
   "cell_type": "code",
   "execution_count": 40,
   "id": "501076a2",
   "metadata": {},
   "outputs": [
    {
     "name": "stderr",
     "output_type": "stream",
     "text": [
      "C:\\Users\\24653\\AppData\\Local\\Temp/ipykernel_33076/3876430330.py:2: RuntimeWarning: invalid value encountered in double_scalars\n",
      "  return np.dot(u,v)/(np.linalg.norm(u)*np.linalg.norm(v))\n"
     ]
    },
    {
     "name": "stdout",
     "output_type": "stream",
     "text": [
      "word: sodium        similarity:1.0000000625158034\n",
      "word: perc        similarity:0.6282327806133579\n",
      "word: union        similarity:0.6275121311923354\n",
      "word: poliomyelitis        similarity:0.6134158319607024\n",
      "word: lyndon        similarity:0.5910070940300681\n",
      "word: milan        similarity:0.5765769885604871\n",
      "word: venezuela        similarity:0.5606420614998747\n",
      "word: phenylalanine        similarity:0.5559694089549403\n",
      "word: difference        similarity:0.5534725213552724\n",
      "word: trivial        similarity:0.5429075278975782\n",
      "word: bird        similarity:0.5426675054854344\n",
      "word: wayne        similarity:0.5397791708658602\n",
      "word: active        similarity:0.5220094702836579\n",
      "word: another        similarity:0.5202686443120991\n",
      "word: sport        similarity:0.5161577366101106\n",
      "word: lights        similarity:0.5033043562171986\n",
      "word: tunnel        similarity:0.49628328890514767\n",
      "word: pathogens        similarity:0.48991315386490103\n",
      "Word is not in the dictionary!\n"
     ]
    },
    {
     "data": {
      "image/png": "[encoded data removed]",
      "text/plain": [
       "<Figure size 720x720 with 1 Axes>"
      ]
     },
     "metadata": {},
     "output_type": "display_data"
    }
   ],
   "source": [
    " plot3D_with_labels(word= 'poland', model= my_best_rnn, k= 20)"
   ]
  },
  {
   "cell_type": "code",
   "execution_count": null,
   "id": "448ae3dc",
   "metadata": {},
   "outputs": [],
   "source": []
  }
 ],
 "metadata": {
  "kernelspec": {
   "display_name": "Python 3 (ipykernel)",
   "language": "python",
   "name": "python3"
  },
  "language_info": {
   "codemirror_mode": {
    "name": "ipython",
    "version": 3
   },
   "file_extension": ".py",
   "mimetype": "text/x-python",
   "name": "python",
   "nbconvert_exporter": "python",
   "pygments_lexer": "ipython3",
   "version": "3.8.11"
  }
 },
 "nbformat": 4,
 "nbformat_minor": 5
}
